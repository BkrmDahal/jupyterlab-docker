{
 "cells": [
  {
   "cell_type": "code",
   "execution_count": 2,
   "metadata": {},
   "outputs": [
    {
     "name": "stdout",
     "output_type": "stream",
     "text": [
      "Reading package lists... Done\n",
      "Building dependency tree       \n",
      "Reading state information... Done\n",
      "E: Unable to locate package libappindicator1\n",
      "E: Unable to locate package libindicator7\n"
     ]
    }
   ],
   "source": [
    "apt-get install libxss1 libappindicator1 libindicator7 wget \\\n",
    "&& apt-get install -f \\\n",
    "&& wget https://dl.google.com/linux/direct/google-chrome-stable_current_amd64.deb \\\n",
    "&& dpkg -i google-chrome*.deb\n",
    "    \n",
    "    \n",
    "wget https://chromedriver.storage.googleapis.com/2.42/chromedriver_linux64.zip \\\n",
    "&& unzip chromedriver_linux64.zip \\\n",
    "&& mv chromedriver /usr/local/bin/"
   ]
  },
  {
   "cell_type": "code",
   "execution_count": 1,
   "metadata": {
    "collapsed": false,
    "inputHidden": false,
    "outputHidden": false
   },
   "outputs": [
    {
     "name": "stderr",
     "output_type": "stream",
     "text": [
      "/usr/local/lib/python3.5/dist-packages/ipykernel_launcher.py:37: DeprecationWarning: use options instead of chrome_options\n"
     ]
    }
   ],
   "source": [
    "#!/usr/bin/env python3\n",
    "# -*- coding: utf-8 -*-\n",
    "\"\"\"\n",
    "Created on Mon Oct  4 22:10:21 2018\n",
    "\n",
    "@author: Bikram \n",
    "\"\"\"\n",
    "\n",
    "## install chrome \n",
    "# apt-get install libxss1 libappindicator1 libindicator7 wget\n",
    "# apt-get install -f\n",
    "# wget https://dl.google.com/linux/direct/google-chrome-stable_current_amd64.deb\n",
    "# dpkg -i google-chrome*.deb\n",
    "\n",
    "## download the chrome driver from https://sites.google.com/a/chromium.org/chromedriver/downloads\n",
    "# wget https://chromedriver.storage.googleapis.com/2.42/chromedriver_linux64.zip\n",
    "# unzip chromedriver_linux64.zip\n",
    "# mv chromedriver /usr/local/bin/\n",
    "\n",
    "\n",
    "from selenium import webdriver\n",
    "from selenium.webdriver.chrome.options import Options\n",
    "import os\n",
    "import re\n",
    "import requests\n",
    "import time\n",
    "from bs4 import BeautifulSoup\n",
    "from selenium import webdriver\n",
    "from collections import defaultdict\n",
    "from tqdm import tqdm\n",
    "import glob\n",
    "\n",
    "import pandas as pd\n",
    "import csv\n",
    "\n",
    "chrome_options = Options()\n",
    "chrome_options.add_argument('--no-sandbox')\n",
    "chrome_options.add_argument(\"--headless\")\n",
    "chrome_options.add_argument(\"--window-size=1920x1080\")\n",
    "chrome_options.add_argument(\"--user-data-dir=/root/.config/google-chrome/Default\")\n",
    "\n",
    "# details of ca\n",
    "details = []\n",
    "total_pages = 37\n",
    "base_url = \"https://www.caknowledgeclub.com/caauditfirms/Chartered_Accountants/{}\"\n",
    "city_details = {'city':[ 'chennai/tamilnadu', 'mumbai/maharashtra'],\n",
    "          'pages':[13, 37]}\n",
    "# city_details = {'city':[ 'bangalore/karnataka', 'chennai/tamilnadu', 'mumbai/maharashtra'],\n",
    "#           'pages':[13, 13, 37]}\n",
    "url_filename = 'url_{}.csv'\n",
    "detail_filename = 'detail_{}.csv'\n",
    "\n",
    "# download the chrome driver from https://sites.google.com/a/chromium.org/chromedriver/downloads\n",
    "chrome_driver = '/usr/local/bin/chromedriver'\n",
    "\n",
    "# make selenium drivers\n",
    "driver = webdriver.Chrome(chrome_options=chrome_options, executable_path=chrome_driver)\n",
    "\n",
    "# get the link to page\n",
    "def get_more_link_url(city, pages):\n",
    "    url = base_url.format(city)\n",
    "    driver.get(url)\n",
    "    url_file = url_filename.format(city.split('/')[0])\n",
    "    \n",
    "    for page in tqdm(range(1, pages+1)):\n",
    "        # go to next page\n",
    "        try:\n",
    "            goto = driver.find_element_by_class_name('goto')\n",
    "            goto.clear()\n",
    "            goto.send_keys(page)\n",
    "            goto = driver.find_element_by_class_name('go_button')\n",
    "            goto.click()\n",
    "            time.sleep(5)\n",
    "        except Exception as e:\n",
    "            print(\"    skipped \", page, \"reason: \", e)\n",
    "            time.sleep(5)\n",
    "        \n",
    "        \n",
    "        soup = driver.page_source\n",
    "        soup = BeautifulSoup(soup, \"lxml\")\n",
    "        lists = soup.find_all(attrs={'class':'more-link'})\n",
    "        urls = [l.find_all('a')[0].get('href') for l in lists ]\n",
    "        \n",
    "        # save  the page\n",
    "        try:\n",
    "            with open(url_file, 'a') as f:\n",
    "                writer = csv.writer(f);\n",
    "                writer.writerows(zip(urls))\n",
    "        except:\n",
    "            with open(url_file, 'w') as f:\n",
    "                writer = csv.writer(f);\n",
    "                writer.writerows(zip(urls))\n",
    "    \n",
    "    # read file and write back the unique url\n",
    "    with open(url_file) as csvfile:\n",
    "        readCSV = csv.reader(csvfile)\n",
    "        urls = [row[0] for row in readCSV]\n",
    "    urls = list(set(urls))\n",
    "\n",
    "    # write unique lists\n",
    "    with open(url_file,'w') as f:\n",
    "        writer = csv.writer(f);\n",
    "        writer.writerows(zip(urls))"
   ]
  },
  {
   "cell_type": "code",
   "execution_count": 2,
   "metadata": {},
   "outputs": [],
   "source": [
    "# get url files name\n",
    "url_files = glob.glob(\"url*.csv\")"
   ]
  },
  {
   "cell_type": "code",
   "execution_count": null,
   "metadata": {},
   "outputs": [
    {
     "name": "stderr",
     "output_type": "stream",
     "text": [
      "100%|██████████| 96/96 [11:09<00:00, 14.70s/it]\n",
      " 95%|█████████▍| 87/92 [12:04<00:37,  7.54s/it]/usr/local/lib/python3.5/dist-packages/ipykernel_launcher.py:45: DeprecationWarning: use options instead of chrome_options\n",
      " 96%|█████████▌| 88/92 [12:12<00:31,  7.81s/it]"
     ]
    },
    {
     "name": "stdout",
     "output_type": "stream",
     "text": [
      "skipped  https://www.caknowledgeclub.com/caauditfirms/firmProfile/krishnan-natarajan-2\n"
     ]
    },
    {
     "name": "stderr",
     "output_type": "stream",
     "text": [
      "100%|██████████| 92/92 [12:55<00:00, 10.10s/it]\n",
      " 20%|██        | 32/160 [05:43<19:25,  9.11s/it]"
     ]
    },
    {
     "name": "stdout",
     "output_type": "stream",
     "text": [
      "skipped  https://www.caknowledgeclub.com/caauditfirms/firmProfile/mahajan-jaggi-co-chartered-accountants-1\n"
     ]
    },
    {
     "name": "stderr",
     "output_type": "stream",
     "text": [
      " 84%|████████▍ | 134/160 [24:17<08:17, 19.14s/it]"
     ]
    }
   ],
   "source": [
    "# get details for each url\n",
    "for f in url_files:\n",
    "    detail_file = f.replace('url', 'detail')\n",
    "    \n",
    "    # read urls as list\n",
    "    with open(f) as csvfile:\n",
    "        readCSV = csv.reader(csvfile)\n",
    "        urls = [row[0] for row in readCSV]\n",
    "\n",
    "    # scraped each list\n",
    "    for url in tqdm(urls[90:250]):\n",
    "        try:\n",
    "            driver.get(url)\n",
    "            soup = driver.page_source\n",
    "            soup = BeautifulSoup(soup, \"lxml\")\n",
    "\n",
    "            # get the profile\n",
    "            profiles = soup.find_all(attrs={'class':'profileaddress'})\n",
    "\n",
    "            # get the details from page\n",
    "            for profile in profiles:\n",
    "                detail = []\n",
    "                for line in profile:\n",
    "                    if line != '\\n':\n",
    "                        try:\n",
    "                            data = line.find('a')\n",
    "                            data = data['href']\n",
    "                        except:\n",
    "                            data = line.get_text().strip()\n",
    "\n",
    "                        if 'mailto' in data:\n",
    "                            data = data[7:]\n",
    "                        detail.append(data)\n",
    "                detail.append(url)\n",
    "\n",
    "\n",
    "            # append data to list\n",
    "            if os.path.isfile(detail_file):\n",
    "                try:\n",
    "                    with open(detail_file,'a') as f:\n",
    "                        writer = csv.writer(f);\n",
    "                        writer.writerow(detail)\n",
    "                except:\n",
    "                    driver.close()\n",
    "                    driver = webdriver.Chrome(chrome_options=chrome_options, executable_path=chrome_driver)\n",
    "                    \n",
    "                    print(\"skipped \", url)\n",
    "            else:\n",
    "                try:\n",
    "                    with open(detail_file,'w') as f:\n",
    "                        writer = csv.writer(f);\n",
    "                        writer.writerow(detail)\n",
    "                except:\n",
    "                    driver.close()\n",
    "                    driver = webdriver.Chrome(chrome_options=chrome_options, executable_path=chrome_driver)\n",
    "                    print(\"skipped \", url)\n",
    "\n",
    "        except Exception as e:\n",
    "            driver.close()\n",
    "            driver = webdriver.Chrome(chrome_options=chrome_options, executable_path=chrome_driver)\n",
    "            print(url, \">>>>\", e)"
   ]
  },
  {
   "cell_type": "code",
   "execution_count": null,
   "metadata": {},
   "outputs": [],
   "source": []
  }
 ],
 "metadata": {
  "kernel_info": {
   "name": "python3"
  },
  "kernelspec": {
   "display_name": "Python 3",
   "language": "python",
   "name": "python3"
  },
  "language_info": {
   "codemirror_mode": {
    "name": "ipython",
    "version": 3
   },
   "file_extension": ".py",
   "mimetype": "text/x-python",
   "name": "python",
   "nbconvert_exporter": "python",
   "pygments_lexer": "ipython3",
   "version": "3.6.7"
  },
  "nteract": {
   "version": "0.11.9"
  }
 },
 "nbformat": 4,
 "nbformat_minor": 2
}
