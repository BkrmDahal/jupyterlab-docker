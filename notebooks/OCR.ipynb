{
 "cells": [
  {
   "cell_type": "code",
   "execution_count": 1,
   "metadata": {},
   "outputs": [
    {
     "name": "stdout",
     "output_type": "stream",
     "text": [
      "[nltk_data] Downloading package stopwords to /root/nltk_data...\n",
      "[nltk_data]   Package stopwords is already up-to-date!\n",
      "[nltk_data] Downloading package punkt to /root/nltk_data...\n",
      "[nltk_data]   Package punkt is already up-to-date!\n",
      "[nltk_data] Downloading package wordnet to /root/nltk_data...\n",
      "[nltk_data]   Package wordnet is already up-to-date!\n"
     ]
    }
   ],
   "source": [
    "from PIL import Image, ImageFont, ImageDraw, ImageEnhance\n",
    "import pytesseract\n",
    "import numpy as np\n",
    "from utils import needed_values\n",
    "import pandas as pd\n",
    "from rules_english import results\n",
    "from pdf2image import convert_from_path\n",
    "\n",
    "pytesseract.pytesseract.tesseract_cmd  = \"/usr/bin/tesseract\""
   ]
  },
  {
   "cell_type": "code",
   "execution_count": 30,
   "metadata": {},
   "outputs": [],
   "source": [
    "def detect_text(path):\n",
    "    if path[-3:].lower() == \"pdf\":\n",
    "        pages = convert_from_path(path, 500)\n",
    "        pages[0].save(path+'.jpg', 'JPEG')\n",
    "        path = path+'.jpg'\n",
    "\n",
    "\n",
    "    image = Image.open(path)\n",
    "\n",
    "\n",
    "    if path[-3:].lower() == \"tif\":\n",
    "        image = image.convert(\"RGB\")\n",
    "\n",
    "\n",
    "\n",
    "    data = pytesseract.image_to_data(image)\n",
    "    with open(\"data.txt\", \"wb\") as text_file: \n",
    "        text_file.write(str(data).encode('utf-8'))               \n",
    "\n",
    "    df = pd.read_csv(\"data.txt\",  error_bad_lines=False, sep='\\t')\n",
    "\n",
    "\n",
    "\n",
    "    draw = ImageDraw.Draw(image)\n",
    "    font = ImageFont.truetype(\"DejaVuSans\", 25)\n",
    "    \n",
    "    data = []\n",
    "\n",
    "    df.replace(' ', np.nan, inplace=True)\n",
    "    df.dropna(axis=0, how='any', inplace=True)\n",
    "    df.reset_index(drop = True, inplace = True)\n",
    "\n",
    "\n",
    "    for idx, row in df.iterrows():\n",
    "        draw.rectangle((row['left'], row['top'], \n",
    "                            row['left'] + row['width'], \n",
    "                            row['top'] + row['height']), \n",
    "                        outline='green')\n",
    "        #draw.text((row['left'], row['top']+12), str(row['text']) + \" Confidence:\" + str(row['conf']), fill='red', font=font)\n",
    "\n",
    "        data.append({\"Text\": str(row['text']), \"conf\": row['conf'],\n",
    "                         \"height\": row['height'], \"line\": 0, \n",
    "                         \"x0\": row['left'] , \"y0\": row['top'], \n",
    "                         \"x2\" :(row['left'] + row['width']), \n",
    "                         \"y2\": (row['top'] + row['height'])})\n",
    "\n",
    "        \n",
    "\n",
    "    df = pd.DataFrame(data)\n",
    "\n",
    "\n",
    "    df.sort_values('y0', inplace = True)\n",
    "    df = df.loc[df.height < 50]\n",
    "    df = df.reset_index(drop=True)\n",
    "    prev_y = 0\n",
    "    prev_height = -1\n",
    "    line = 0\n",
    "\n",
    "\n",
    "    for index, row in df.iterrows():\n",
    "        if row.y0 - prev_y > prev_height:\n",
    "            line += 1\n",
    "            df.iloc[index, df.columns.get_loc('line')] = line\n",
    "        else:\n",
    "            df.iloc[index, df.columns.get_loc('line')] = line\n",
    "\n",
    "        prev_y = row.y0\n",
    "        prev_height = row.height\n",
    "\n",
    "\n",
    "    text = df.copy()\n",
    "\n",
    "\n",
    "    output, table, green_indices = results(text)\n",
    "    \n",
    "\n",
    "\n",
    "    for idx in green_indices:\n",
    "        row = text.iloc[idx]\n",
    "\n",
    "        draw.rectangle((row['x0'], row['y0'], row['x2'], row['y2']), outline='blue')\n",
    "\n",
    "\n",
    "        draw.text((row['x0'], row['y0']-20), str(row.Text) + \" :\" + str(row.conf)+\"%\", fill='red', font=font)\n",
    "        \n",
    "    \n",
    "\n",
    "    data_needed = []\n",
    "    for key, value in output.items():\n",
    "        data_needed.append({'Text': key, 'Value': value})\n",
    "\n",
    "\n",
    "    df_needed = pd.DataFrame(data_needed)\n",
    "    \n",
    "    path += '-remittance.jpg'\n",
    "\n",
    "    image.save(path)\n",
    "\n",
    "\n",
    "        \n",
    "\n",
    "    return df_needed, table, path[7:]\n"
   ]
  },
  {
   "cell_type": "code",
   "execution_count": 32,
   "metadata": {},
   "outputs": [
    {
     "name": "stderr",
     "output_type": "stream",
     "text": [
      "/notebooks/rules_english.py:150: UserWarning: This pattern has match groups. To actually get the groups, use str.extract.\n",
      "  amount.extend(text.loc[text.line == line].loc[text['Text'].str.contains(\"\\d+(\\.\\d{0,1,2}){0,1}$\")].Text.values)\n",
      "/notebooks/rules_english.py:104: UserWarning: This pattern has match groups. To actually get the groups, use str.extract.\n",
      "  value = line_df.loc[text['Text'].str.contains(\"\\d+(\\.\\d{1,2})$\")].Text.values[0]\n"
     ]
    },
    {
     "data": {
      "text/plain": [
       "(           Text       Value\n",
       " 0     Sort Code   55-61-01.\n",
       " 1   Payment No.  U113423668\n",
       " 2          Date  2017-04-21\n",
       " 3   Account No.    05200105\n",
       " 4  Total Amount     77083.3,          Date Other   Reference     Value\n",
       " 0  2017-04-21        U113423668       NaN\n",
       " 1  2017-04-21        U113423669    196.74\n",
       " 2  2017-04-21        U113423670  41159.27\n",
       " 3  2017-04-21        U113423671   1988.53, 'if-remittance.jpg')"
      ]
     },
     "execution_count": 32,
     "metadata": {},
     "output_type": "execute_result"
    }
   ],
   "source": [
    "detect_text('tmp/2.tif')"
   ]
  },
  {
   "cell_type": "code",
   "execution_count": null,
   "metadata": {},
   "outputs": [],
   "source": []
  }
 ],
 "metadata": {
  "kernelspec": {
   "display_name": "Python 3",
   "language": "python",
   "name": "python3"
  },
  "language_info": {
   "codemirror_mode": {
    "name": "ipython",
    "version": 3
   },
   "file_extension": ".py",
   "mimetype": "text/x-python",
   "name": "python",
   "nbconvert_exporter": "python",
   "pygments_lexer": "ipython3",
   "version": "3.5.2"
  }
 },
 "nbformat": 4,
 "nbformat_minor": 2
}
